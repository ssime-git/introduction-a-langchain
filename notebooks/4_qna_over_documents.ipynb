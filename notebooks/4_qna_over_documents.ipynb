{
 "cells": [
  {
   "cell_type": "markdown",
   "metadata": {},
   "source": [
    "# QnA over documents\n",
    "\n",
    "Les grands modèles linguistiques (LLM) sont confrontés à un problème de fraîcheur des données. Même certains des modèles les plus puissants, comme GPT-4, n'ont aucune idée des événements récents.\n",
    "\n",
    "Selon les LLMs, le monde est figé dans le temps. Ils ne connaissent que le monde tel qu'il est apparu à travers leurs données d'apprentissage.\n",
    "\n",
    "Cela pose des problèmes pour tous les cas d'utilisation qui reposent sur des informations actualisées ou sur un ensemble de données particulier. Par exemple, vous pouvez avoir des documents internes à votre entreprise avec lesquels vous aimeriez interagir par le biais d'un LLM.\n",
    "\n",
    "Le premier défi consiste à ajouter ces documents au LLM. Nous pourrions essayer d'entraîner le LLM sur ces documents, mais cela prend du temps et coûte cher. Et que se passe-t-il lorsqu'un nouveau document est ajouté ? La formation pour chaque nouveau document ajouté est plus qu'inefficace, elle est tout simplement impossible.\n",
    "\n",
    "Alors, comment résoudre ce problème ? Nous pouvons utiliser **l'augmentation de la recherche (ou retrieval augmentation)**. Cette technique nous permet d'extraire des informations pertinentes d'une base de connaissances externe et de les transmettre à notre LLM.\n",
    "\n",
    "La base de connaissances externe est notre \"fenêtre\" sur le monde au-delà des données de formation du LLM. Dans ce chapitre, nous apprendrons tout sur la mise en œuvre de l'augmentation de la récupération pour les LLM à l'aide de LangChain.\n",
    "\n",
    "\n",
    "## Base de connaissances\n",
    "\n",
    "Pour aider le modèle, nous devons lui donner accès à des sources de connaissances pertinentes. L'ensemble de données utilisé comme base de connaissance dépend naturellement du cas d'utilisation. Il peut s'agir de documentation de code pour un LLM qui a besoin d'aider à écrire du code, de documents d'entreprise pour un chatbot interne, ou de n'importe quoi d'autre.\n",
    "\n",
    "La plupart des ensembles de données contiennent des enregistrements comportant beaucoup de texte. C'est pourquoi notre première tâche consiste généralement à construire un pipeline de prétraitement qui **découpe ces longs morceaux de texte en morceaux plus concis et convertis ces morçeaux en représentations numériques vectorielles appelées les embeddings**.\n",
    "\n",
    "## Embeddings\n",
    "\n",
    "Les vecteurs intégrés (embeddings) sont essentiels à la récupération du contexte pertinent pour notre LLM. Nous prenons les morceaux de texte que nous souhaitons stocker dans notre base de connaissances et encodons chaque morceau dans un vecteur intégré ou embeddings.\n",
    "\n",
    "Ces embeddings peuvent agir comme des \"représentations numériques\" de la signification de chaque morceau de texte.\n",
    "\n",
    "Nous avons donc besoin d'un second modèle pour traduire les ffragments de texte en embeddings qui seront ensuite enregistrés dans notre base de données vectorielle et nous pouvons trouver des morceaux de texte ayant des significations similaires en calculant la distance entre les représentations vectorielles dans l'espace vectoriel.\n"
   ]
  },
  {
   "cell_type": "markdown",
   "metadata": {},
   "source": [
    "![Alt text](image-6.png)"
   ]
  },
  {
   "cell_type": "code",
   "execution_count": 1,
   "metadata": {},
   "outputs": [
    {
     "name": "stderr",
     "output_type": "stream",
     "text": [
      "C:\\Users\\sebas\\AppData\\Local\\Temp\\ipykernel_83012\\3766489265.py:3: DeprecationWarning: \n",
      "Pyarrow will become a required dependency of pandas in the next major release of pandas (pandas 3.0),\n",
      "(to allow more performant data types, such as the Arrow string type, and better interoperability with other libraries)\n",
      "but was not found to be installed on your system.\n",
      "If this would cause problems for you,\n",
      "please provide us feedback at https://github.com/pandas-dev/pandas/issues/54466\n",
      "        \n",
      "  import pandas as pd\n"
     ]
    }
   ],
   "source": [
    "# base packages\n",
    "import os\n",
    "import pandas as pd\n",
    "from langchain.chat_models import ChatOpenAI\n",
    "from langchain.document_loaders import CSVLoader\n",
    "from IPython.display import display, Markdown\n",
    "\n",
    "# load the environment variables\n",
    "from dotenv import load_dotenv, find_dotenv\n",
    "_ = load_dotenv(find_dotenv())\n",
    "\n",
    "# import model\n",
    "from langchain_openai import AzureChatOpenAI\n",
    "from langchain_openai import AzureOpenAIEmbeddings\n",
    "\n",
    "# chat model\n",
    "llm = AzureChatOpenAI(\n",
    "    openai_api_version=\"2023-09-01-preview\",\n",
    "    azure_endpoint=os.getenv('AZURE_API_ENDPOINT'),\n",
    "    api_key=os.getenv('AZURE_OPENAI_KEY'),\n",
    "    azure_deployment=os.getenv('OPENAI_DEPLOYMENT_NAME'),\n",
    "    model_name=os.getenv('OPENAI_MODEL_NAME'),\n",
    "    model_version=os.getenv('OPENAI_API_VERSION')\n",
    ")\n",
    "\n",
    "# ebedding model\n",
    "embeddings = AzureOpenAIEmbeddings(\n",
    "    openai_api_version=\"2023-09-01-preview\",\n",
    "    azure_endpoint=os.getenv('AZURE_API_ENDPOINT'),\n",
    "    api_key=os.getenv('AZURE_OPENAI_KEY'),\n",
    "    azure_deployment=os.getenv('OPENAI_DEPLOYMENT_NAME_EMBEDDING'),\n",
    "    #model_name=os.getenv('OPENAI_MODEL_NAME_EMBEDDING'),\n",
    "    #model_version=os.getenv('OPENAI_API_VERSION_EMBEDDING')\n",
    ")\n"
   ]
  },
  {
   "cell_type": "code",
   "execution_count": 2,
   "metadata": {},
   "outputs": [
    {
     "name": "stdout",
     "output_type": "stream",
     "text": [
      "1536\n",
      "[-0.02186359354958571, 0.006734037540552159, -0.018200781829872538, -0.03919587420756086, -0.01404707648325098]\n"
     ]
    }
   ],
   "source": [
    "# test th eembedding\n",
    "embed = embeddings.embed_query(\"Hi my name is Harrison\")\n",
    "print(len(embed))\n",
    "print(embed[:5])"
   ]
  },
  {
   "cell_type": "code",
   "execution_count": 3,
   "metadata": {},
   "outputs": [
    {
     "data": {
      "text/html": [
       "<div>\n",
       "<style scoped>\n",
       "    .dataframe tbody tr th:only-of-type {\n",
       "        vertical-align: middle;\n",
       "    }\n",
       "\n",
       "    .dataframe tbody tr th {\n",
       "        vertical-align: top;\n",
       "    }\n",
       "\n",
       "    .dataframe thead th {\n",
       "        text-align: right;\n",
       "    }\n",
       "</style>\n",
       "<table border=\"1\" class=\"dataframe\">\n",
       "  <thead>\n",
       "    <tr style=\"text-align: right;\">\n",
       "      <th></th>\n",
       "      <th>Unnamed: 0</th>\n",
       "      <th>name</th>\n",
       "      <th>description</th>\n",
       "    </tr>\n",
       "  </thead>\n",
       "  <tbody>\n",
       "    <tr>\n",
       "      <th>0</th>\n",
       "      <td>0</td>\n",
       "      <td>Women's Campside Oxfords</td>\n",
       "      <td>This ultracomfortable lace-to-toe Oxford boast...</td>\n",
       "    </tr>\n",
       "    <tr>\n",
       "      <th>1</th>\n",
       "      <td>1</td>\n",
       "      <td>Recycled Waterhog Dog Mat, Chevron Weave</td>\n",
       "      <td>Protect your floors from spills and splashing ...</td>\n",
       "    </tr>\n",
       "    <tr>\n",
       "      <th>2</th>\n",
       "      <td>2</td>\n",
       "      <td>Infant and Toddler Girls' Coastal Chill Swimsu...</td>\n",
       "      <td>She'll love the bright colors, ruffles and exc...</td>\n",
       "    </tr>\n",
       "    <tr>\n",
       "      <th>3</th>\n",
       "      <td>3</td>\n",
       "      <td>Refresh Swimwear, V-Neck Tankini Contrasts</td>\n",
       "      <td>Whether you're going for a swim or heading out...</td>\n",
       "    </tr>\n",
       "    <tr>\n",
       "      <th>4</th>\n",
       "      <td>4</td>\n",
       "      <td>EcoFlex 3L Storm Pants</td>\n",
       "      <td>Our new TEK O2 technology makes our four-seaso...</td>\n",
       "    </tr>\n",
       "  </tbody>\n",
       "</table>\n",
       "</div>"
      ],
      "text/plain": [
       "   Unnamed: 0                                               name  \\\n",
       "0           0                           Women's Campside Oxfords   \n",
       "1           1           Recycled Waterhog Dog Mat, Chevron Weave   \n",
       "2           2  Infant and Toddler Girls' Coastal Chill Swimsu...   \n",
       "3           3         Refresh Swimwear, V-Neck Tankini Contrasts   \n",
       "4           4                             EcoFlex 3L Storm Pants   \n",
       "\n",
       "                                         description  \n",
       "0  This ultracomfortable lace-to-toe Oxford boast...  \n",
       "1  Protect your floors from spills and splashing ...  \n",
       "2  She'll love the bright colors, ruffles and exc...  \n",
       "3  Whether you're going for a swim or heading out...  \n",
       "4  Our new TEK O2 technology makes our four-seaso...  "
      ]
     },
     "execution_count": 3,
     "metadata": {},
     "output_type": "execute_result"
    }
   ],
   "source": [
    "# let's have a look of the data\n",
    "df = pd.read_csv('../data/OutdoorClothingCatalog.csv')\n",
    "df.head()"
   ]
  },
  {
   "cell_type": "code",
   "execution_count": 4,
   "metadata": {},
   "outputs": [
    {
     "name": "stdout",
     "output_type": "stream",
     "text": [
      "1000\n"
     ]
    },
    {
     "data": {
      "text/plain": [
       "Document(page_content=\": 0\\nname: Women's Campside Oxfords\\ndescription: This ultracomfortable lace-to-toe Oxford boasts a super-soft canvas, thick cushioning, and quality construction for a broken-in feel from the first time you put them on. \\r\\n\\r\\nSize & Fit: Order regular shoe size. For half sizes not offered, order up to next whole size. \\r\\n\\r\\nSpecs: Approx. weight: 1 lb.1 oz. per pair. \\r\\n\\r\\nConstruction: Soft canvas material for a broken-in feel and look. Comfortable EVA innersole with Cleansport NXT® antimicrobial odor control. Vintage hunt, fish and camping motif on innersole. Moderate arch contour of innersole. EVA foam midsole for cushioning and support. Chain-tread-inspired molded rubber outsole with modified chain-tread pattern. Imported. \\r\\n\\r\\nQuestions? Please contact us for any inquiries.\", metadata={'source': '../data/OutdoorClothingCatalog.csv', 'row': 0})"
      ]
     },
     "execution_count": 4,
     "metadata": {},
     "output_type": "execute_result"
    }
   ],
   "source": [
    "# define a loader\n",
    "loader = CSVLoader(file_path=\"../data/OutdoorClothingCatalog.csv\", encoding=\"utf-8\")\n",
    "\n",
    "# load documents\n",
    "docs = loader.load()\n",
    "print(len(docs))\n",
    "docs[0]"
   ]
  },
  {
   "cell_type": "code",
   "execution_count": 5,
   "metadata": {},
   "outputs": [
    {
     "data": {
      "text/plain": [
       "{'source': '../data/OutdoorClothingCatalog.csv', 'row': 1}"
      ]
     },
     "execution_count": 5,
     "metadata": {},
     "output_type": "execute_result"
    }
   ],
   "source": [
    "docs[1].metadata"
   ]
  },
  {
   "cell_type": "code",
   "execution_count": 10,
   "metadata": {},
   "outputs": [
    {
     "name": "stdout",
     "output_type": "stream",
     "text": [
      "\n",
      "\n",
      "\u001b[1m> Entering new RetrievalQA chain...\u001b[0m\n",
      "\n",
      "\u001b[1m> Finished chain.\u001b[0m\n",
      "{'query': 'Please list all your shirts with sun protection in a table in markdown and summarize each one.', 'result': \"| Shirt Number | Name | Summary |\\r\\n|--------------|------|---------|\\r\\n| 618 | Men's Tropical Plaid Short-Sleeve Shirt | Made of 100% polyester, this shirt is rated UPF 50+ for superior protection from the sun's UV rays. It has front and back cape venting that lets in cool breezes and two front bellows pockets. |\\r\\n| 374 | Men's Plaid Tropic Shirt, Short-Sleeve | Made with 52% polyester and 48% nylon, this shirt is rated to UPF 50+. It has front and back cape venting, two front bellows pockets, and is machine washable and dryable. |\\r\\n| 255 | Sun Shield Shirt | Made of 78% nylon and 22% Lycra Xtra Life fiber, this shirt is UPF 50+ rated and handwashable. It wicks moisture for quick-drying comfort and is abrasion-resistant. It fits comfortably over swimsuits. |\\r\\n| 535 | Men's TropicVibe Shirt, Short-Sleeve | Made with 71% Nylon and 29% Polyester, this Men’s sun-protection shirt has built-in UPF 50+. It is wrinkle-resistant and has front and back cape venting and two front bellows pockets. | \\n\\nAll of the listed shirts have UPF 50+ sun protection, blocking 98% of the sun's harmful rays. The Men's Tropical Plaid Short-Sleeve Shirt is made of 100% polyester and has front and back cape venting and two front bellows pockets. The Men's Plaid Tropic Shirt, Short-Sleeve is made of 52% polyester and 48% nylon, and is machine washable and dryable. The Sun Shield Shirt is made of 78% nylon and 22% Lycra Xtra Life fiber, and is handwashable. It is abrasion-resistant and can fit comfortably over swimsuits. The Men's TropicVibe Shirt, Short-Sleeve is made with 71% Nylon and 29% Polyester, it is wrinkle-resistant and has front and back cape venting and two front bellows pockets.\"}\n"
     ]
    }
   ],
   "source": [
    "# this help to create a vector store very easily\n",
    "# pip install --upgrade --quiet  \"docarray\"\n",
    "from langchain.chains import RetrievalQA\n",
    "from langchain.vectorstores import DocArrayInMemorySearch\n",
    "\n",
    "# creation of the in memory the vector store\n",
    "db = DocArrayInMemorySearch.from_documents(\n",
    "    docs, # list of documents\n",
    "    embeddings, # embedding object\n",
    ")\n",
    "\n",
    "# creation of a retriever\n",
    "retriever = db.as_retriever()\n",
    "\n",
    "# create retrieval chain\n",
    "qa_stuff = RetrievalQA.from_chain_type(\n",
    "    llm=llm, \n",
    "    chain_type=\"stuff\", # stuff all the document into context\n",
    "    retriever=retriever, # the docs are in the retriever\n",
    "    verbose=True\n",
    ")\n",
    "\n",
    "# define the query\n",
    "query =  \"Please list all your shirts with sun protection in a table \\\n",
    "in markdown and summarize each one.\"\n",
    "\n",
    "# run the query\n",
    "response = qa_stuff.invoke(query)\n",
    "\n",
    "# display the response\n",
    "print(response)"
   ]
  },
  {
   "cell_type": "code",
   "execution_count": 11,
   "metadata": {},
   "outputs": [
    {
     "data": {
      "text/markdown": [
       "| Shirt Number | Name | Summary |\r\n",
       "|--------------|------|---------|\r\n",
       "| 618 | Men's Tropical Plaid Short-Sleeve Shirt | Made of 100% polyester, this shirt is rated UPF 50+ for superior protection from the sun's UV rays. It has front and back cape venting that lets in cool breezes and two front bellows pockets. |\r\n",
       "| 374 | Men's Plaid Tropic Shirt, Short-Sleeve | Made with 52% polyester and 48% nylon, this shirt is rated to UPF 50+. It has front and back cape venting, two front bellows pockets, and is machine washable and dryable. |\r\n",
       "| 255 | Sun Shield Shirt | Made of 78% nylon and 22% Lycra Xtra Life fiber, this shirt is UPF 50+ rated and handwashable. It wicks moisture for quick-drying comfort and is abrasion-resistant. It fits comfortably over swimsuits. |\r\n",
       "| 535 | Men's TropicVibe Shirt, Short-Sleeve | Made with 71% Nylon and 29% Polyester, this Men’s sun-protection shirt has built-in UPF 50+. It is wrinkle-resistant and has front and back cape venting and two front bellows pockets. | \n",
       "\n",
       "All of the listed shirts have UPF 50+ sun protection, blocking 98% of the sun's harmful rays. The Men's Tropical Plaid Short-Sleeve Shirt is made of 100% polyester and has front and back cape venting and two front bellows pockets. The Men's Plaid Tropic Shirt, Short-Sleeve is made of 52% polyester and 48% nylon, and is machine washable and dryable. The Sun Shield Shirt is made of 78% nylon and 22% Lycra Xtra Life fiber, and is handwashable. It is abrasion-resistant and can fit comfortably over swimsuits. The Men's TropicVibe Shirt, Short-Sleeve is made with 71% Nylon and 29% Polyester, it is wrinkle-resistant and has front and back cape venting and two front bellows pockets."
      ],
      "text/plain": [
       "<IPython.core.display.Markdown object>"
      ]
     },
     "metadata": {},
     "output_type": "display_data"
    }
   ],
   "source": [
    "# nice display\n",
    "display(Markdown(response[\"result\"]))"
   ]
  },
  {
   "cell_type": "markdown",
   "metadata": {},
   "source": [
    "We can check the results with a simple similarity search."
   ]
  },
  {
   "cell_type": "code",
   "execution_count": 13,
   "metadata": {},
   "outputs": [
    {
     "name": "stdout",
     "output_type": "stream",
     "text": [
      "Results found in 4 documents\n"
     ]
    },
    {
     "data": {
      "text/plain": [
       "[': 255\\nname: Sun Shield Shirt by\\ndescription: \"Block the sun, not the fun – our high-performance sun shirt is guaranteed to protect from harmful UV rays. \\r\\n\\r\\nSize & Fit: Slightly Fitted: Softly shapes the body. Falls at hip.\\r\\n\\r\\nFabric & Care: 78% nylon, 22% Lycra Xtra Life fiber. UPF 50+ rated – the highest rated sun protection possible. Handwash, line dry.\\r\\n\\r\\nAdditional Features: Wicks moisture for quick-drying comfort. Fits comfortably over your favorite swimsuit. Abrasion resistant for season after season of wear. Imported.\\r\\n\\r\\nSun Protection That Won\\'t Wear Off\\r\\nOur high-performance fabric provides SPF 50+ sun protection, blocking 98% of the sun\\'s harmful rays. This fabric is recommended by The Skin Cancer Foundation as an effective UV protectant.',\n",
       " \": 374\\nname: Men's Plaid Tropic Shirt, Short-Sleeve\\ndescription: Our Ultracomfortable sun protection is rated to UPF 50+, helping you stay cool and dry. Originally designed for fishing, this lightest hot-weather shirt offers UPF 50+ coverage and is great for extended travel. SunSmart technology blocks 98% of the sun's harmful UV rays, while the high-performance fabric is wrinkle-free and quickly evaporates perspiration. Made with 52% polyester and 48% nylon, this shirt is machine washable and dryable. Additional features include front and back cape venting, two front bellows pockets and an imported design. With UPF 50+ coverage, you can limit sun exposure and feel secure with the highest rated sun protection available.\",\n",
       " \": 535\\nname: Men's TropicVibe Shirt, Short-Sleeve\\ndescription: This Men’s sun-protection shirt with built-in UPF 50+ has the lightweight feel you want and the coverage you need when the air is hot and the UV rays are strong. Size & Fit: Traditional Fit: Relaxed through the chest, sleeve and waist. Fabric & Care: Shell: 71% Nylon, 29% Polyester. Lining: 100% Polyester knit mesh. UPF 50+ rated – the highest rated sun protection possible. Machine wash and dry. Additional Features: Wrinkle resistant. Front and back cape venting lets in cool breezes. Two front bellows pockets. Imported.\\r\\n\\r\\nSun Protection That Won't Wear Off: Our high-performance fabric provides SPF 50+ sun protection, blocking 98% of the sun's harmful rays.\",\n",
       " \": 618\\nname: Men's Tropical Plaid Short-Sleeve Shirt\\ndescription: Our lightest hot-weather shirt is rated UPF 50+ for superior protection from the sun's UV rays. With a traditional fit that is relaxed through the chest, sleeve, and waist, this fabric is made of 100% polyester and is wrinkle-resistant. With front and back cape venting that lets in cool breezes and two front bellows pockets, this shirt is imported and provides the highest rated sun protection possible. \\r\\n\\r\\nSun Protection That Won't Wear Off. Our high-performance fabric provides SPF 50+ sun protection, blocking 98% of the sun's harmful rays.\"]"
      ]
     },
     "execution_count": 13,
     "metadata": {},
     "output_type": "execute_result"
    }
   ],
   "source": [
    "# to check the results\n",
    "query = \"Please suggest a shirt with sunblocking\"\n",
    "docs = db.similarity_search(query)\n",
    "print(f\"Results found in {len(docs)} documents\")\n",
    "[doc.page_content for doc in docs]"
   ]
  }
 ],
 "metadata": {
  "kernelspec": {
   "display_name": ".venv",
   "language": "python",
   "name": "python3"
  },
  "language_info": {
   "codemirror_mode": {
    "name": "ipython",
    "version": 3
   },
   "file_extension": ".py",
   "mimetype": "text/x-python",
   "name": "python",
   "nbconvert_exporter": "python",
   "pygments_lexer": "ipython3",
   "version": "3.11.8"
  }
 },
 "nbformat": 4,
 "nbformat_minor": 2
}
