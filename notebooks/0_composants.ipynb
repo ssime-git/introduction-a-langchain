{
 "cells": [
  {
   "cell_type": "code",
   "execution_count": 1,
   "metadata": {},
   "outputs": [],
   "source": [
    "# import packages\n",
    "import os\n",
    "from langchain_openai import AzureChatOpenAI\n",
    "from dotenv import load_dotenv, find_dotenv\n",
    "_ = load_dotenv(find_dotenv())"
   ]
  },
  {
   "cell_type": "markdown",
   "metadata": {},
   "source": [
    "## PromptTemplate"
   ]
  },
  {
   "cell_type": "code",
   "execution_count": 2,
   "metadata": {},
   "outputs": [
    {
     "name": "stdout",
     "output_type": "stream",
     "text": [
      "Lancgchain is my favourite framework\n"
     ]
    }
   ],
   "source": [
    "from langchain import PromptTemplate\n",
    "\n",
    "template = \"{name} is my favourite framework\"\n",
    "\n",
    "prompt = PromptTemplate(\n",
    "\tinput_variables=[\"name\"],\n",
    "\ttemplate=template,\n",
    ")\n",
    "\n",
    "example = prompt.format(name=\"Lancgchain\")\n",
    "\n",
    "print(example)"
   ]
  },
  {
   "cell_type": "markdown",
   "metadata": {},
   "source": [
    "## Memory\n",
    "### ChatMessageHistory\n",
    "\n",
    "La classe `ChatMessageHistory` est l'une des classes importantes des modules de langchain. Il s'agit d'un wrapper léger et pratique qui est utile pour enregistrer les messages humains et IA, puis les récupérer tous.\n",
    "\n",
    "REMARQUE : Cette classe est généralement utilisée si vous essayez de gérer la mémoire en dehors d'une chaîne."
   ]
  },
  {
   "cell_type": "code",
   "execution_count": 2,
   "metadata": {},
   "outputs": [
    {
     "name": "stdout",
     "output_type": "stream",
     "text": [
      "[HumanMessage(content='Can you give me the solution for 10+10'), AIMessage(content='The Solution is 10+10=20'), HumanMessage(content='Thank You')]\n"
     ]
    }
   ],
   "source": [
    "from langchain.memory import ChatMessageHistory\n",
    "\n",
    "chat_history = ChatMessageHistory()\n",
    "\n",
    "chat_history.add_user_message(\"Can you give me the solution for 10+10\")\n",
    "chat_history.add_ai_message(\"The Solution is 10+10=20\")\n",
    "chat_history.add_user_message(\"Thank You\")\n",
    "\n",
    "print(chat_history.messages)"
   ]
  },
  {
   "cell_type": "markdown",
   "metadata": {},
   "source": [
    "### ConversationBufferMémoire\n",
    "\n",
    "Cette classe est un wrapper sur la classe ChatMessageHistory et extrait les messages dans une variable."
   ]
  },
  {
   "cell_type": "code",
   "execution_count": 3,
   "metadata": {},
   "outputs": [
    {
     "name": "stdout",
     "output_type": "stream",
     "text": [
      "<bound method ConversationBufferMemory.load_memory_variables of ConversationBufferMemory(chat_memory=ChatMessageHistory(messages=[HumanMessage(content='Can you give me the solution for 10+10'), AIMessage(content='he Solution is 10+10=20'), HumanMessage(content='ThankYou')]))>\n"
     ]
    }
   ],
   "source": [
    "from langchain.memory import ConversationBufferMemory\n",
    "\n",
    "buff_memory = ConversationBufferMemory()\n",
    "\n",
    "buff_memory.chat_memory.add_user_message(\"Can you give me the solution for 10+10\")\n",
    "buff_memory.chat_memory.add_ai_message(\"he Solution is 10+10=20\")\n",
    "buff_memory.chat_memory.add_user_message(\"ThankYou\")\n",
    "\n",
    "print(buff_memory.load_memory_variables)\n"
   ]
  },
  {
   "cell_type": "markdown",
   "metadata": {},
   "source": [
    "## Memory and Chains"
   ]
  },
  {
   "cell_type": "code",
   "execution_count": 4,
   "metadata": {},
   "outputs": [
    {
     "name": "stdout",
     "output_type": "stream",
     "text": [
      "\n",
      "\n",
      "\u001b[1m> Entering new ConversationChain chain...\u001b[0m\n",
      "Prompt after formatting:\n",
      "\u001b[32;1m\u001b[1;3mThe following is a friendly conversation between a human and an AI. The AI is talkative and provides lots of specific details from its context. If the AI does not know the answer to a question, it truthfully says it does not know.\n",
      "\n",
      "Current conversation:\n",
      "\n",
      "Human: Can You tell me something about GeeksForGeeks.\n",
      "AI:\u001b[0m\n",
      "\n",
      "\u001b[1m> Finished chain.\u001b[0m\n",
      "Certainly! GeeksForGeeks is a website that provides resources for computer science and programming. It was founded in 2009 and is based in India. The website offers articles, tutorials, and coding challenges for a variety of programming languages and topics, including data structures, algorithms, web development, and more. It has a large community of developers who contribute to the content and forums on the site. Additionally, GeeksForGeeks offers courses and certifications for individuals looking to improve their programming skills.\n"
     ]
    }
   ],
   "source": [
    "from langchain.chains import ConversationChain\n",
    "from langchain.memory import ConversationBufferMemory\n",
    "import os\n",
    "\n",
    "# defining chat model\n",
    "chat_model = AzureChatOpenAI(\n",
    "    openai_api_version=\"2023-09-01-preview\",\n",
    "    azure_endpoint=os.getenv('AZURE_API_ENDPOINT'),\n",
    "    api_key=os.getenv('AZURE_OPENAI_KEY'),\n",
    "    azure_deployment=os.getenv('OPENAI_DEPLOYMENT_NAME'),\n",
    "    model_name=os.getenv('OPENAI_MODEL_NAME'),\n",
    "    model_version=os.getenv('OPENAI_API_VERSION')  # Add the desired version identifier\n",
    ")\n",
    "\n",
    "# defining chain\n",
    "chain = ConversationChain(llm=chat_model,\n",
    "    verbose=True,\n",
    "    memory=ConversationBufferMemory()\n",
    "    )\n",
    " \n",
    "print(chain.predict(input=\"Can You tell me something about GeeksForGeeks.\"))"
   ]
  },
  {
   "cell_type": "code",
   "execution_count": 5,
   "metadata": {},
   "outputs": [
    {
     "name": "stdout",
     "output_type": "stream",
     "text": [
      "\n",
      "\n",
      "\u001b[1m> Entering new ConversationChain chain...\u001b[0m\n",
      "Prompt after formatting:\n",
      "\u001b[32;1m\u001b[1;3mThe following is a friendly conversation between a human and an AI. The AI is talkative and provides lots of specific details from its context. If the AI does not know the answer to a question, it truthfully says it does not know.\n",
      "\n",
      "Current conversation:\n",
      "Human: Can You tell me something about GeeksForGeeks.\n",
      "AI: Certainly! GeeksForGeeks is a website that provides resources for computer science and programming. It was founded in 2009 and is based in India. The website offers articles, tutorials, and coding challenges for a variety of programming languages and topics, including data structures, algorithms, web development, and more. It has a large community of developers who contribute to the content and forums on the site. Additionally, GeeksForGeeks offers courses and certifications for individuals looking to improve their programming skills.\n",
      "Human: What are similar websites ?\n",
      "AI:\u001b[0m\n",
      "\n",
      "\u001b[1m> Finished chain.\u001b[0m\n",
      "There are a variety of websites that offer similar resources to GeeksForGeeks. Some examples include Codecademy, Khan Academy, Udemy, Coursera, edX, and HackerRank. Each of these sites offers coding tutorials, courses, and challenges to help individuals improve their programming skills. However, each site may have different focuses and areas of expertise, so it's important to research and compare the options to find the best fit for your needs.\n"
     ]
    }
   ],
   "source": [
    "# continuing with the memory\n",
    "print(chain.predict(input=\"What are similar websites ?\"))"
   ]
  },
  {
   "cell_type": "markdown",
   "metadata": {},
   "source": [
    "## Agent\n",
    "\n",
    "Permet d'utiliser une collection d'outils et donner de la flexibilité."
   ]
  },
  {
   "cell_type": "code",
   "execution_count": 7,
   "metadata": {},
   "outputs": [
    {
     "data": {
      "text/plain": [
       "\"Barack Obama (born August 4, 1961, Honolulu, Hawaii, U.S.) 44th president of the United States (2009-17) and the first African American to hold the office. Before winning the presidency, Obama represented Illinois in the U.S. Senate (2005-08). He was the third African American to be elected to that body since the end of Reconstruction (1877). Barack Obama was the 44 th president of the United States and the first Black commander-in-chief. He served two terms, from 2009 until 2017. He served two terms, from 2009 until 2017. As the head of the government of the United States, the president is arguably the most powerful government official in the world. The president is elected to a four-year term via an electoral college system. Since the Twenty-second Amendment was adopted in 1951, the American presidency has been Barack and Michelle Obama's daughters, Malia and Sasha, grew up in the White House from 2009 to 2017. To most of the world, Barack and Michelle Obama are the former president and first lady of ... Michelle LaVaughn Robinson Obama (born January 17, 1964) is an American attorney and author who served as the first lady of the United States from 2009 to 2017, being married to former president Barack Obama.. Raised on the South Side of Chicago, Obama is a graduate of Princeton University and Harvard Law School.In her early legal career, she worked at the law firm Sidley Austin where she met ...\""
      ]
     },
     "execution_count": 7,
     "metadata": {},
     "output_type": "execute_result"
    }
   ],
   "source": [
    "# testing duckduckgo search\n",
    "from langchain.tools import DuckDuckGoSearchRun\n",
    "search = DuckDuckGoSearchRun()\n",
    "search.run(\"Obama's first name?\")"
   ]
  },
  {
   "cell_type": "code",
   "execution_count": 8,
   "metadata": {},
   "outputs": [
    {
     "data": {
      "text/plain": [
       "'Page: Hunter × Hunter\\nSummary: Hunter × Hunter (stylized as HUNTER×HUNTER and pronounced \"hunter hunter\") is a Japanese manga series written and illustrated by Yoshihiro Togashi. It has been serialized in Shueisha\\'s shōnen manga magazine Weekly Shōnen Jump since March 1998, although the manga has frequently gone on extended hiatuses since 2006. Its chapters have been collected in 37 tankōbon volumes as of November 2022. The story focuses on a young boy named Gon Freecss who discovers that his father, who left him at a young age, is actually a world-renowned Hunter, a licensed professional who specializes in fantastical pursuits such as locating rare or unidentified animal species, treasure hunting, surveying unexplored enclaves, or hunting down lawless individuals. Gon departs on a journey to become a Hunter and eventually find his father. Along the way, Gon meets various other Hunters and encounters the paranormal.\\nHunter × Hunter was adapted into a 62-episode anime television series by Nippon Animation and directed by Kazuhiro Furuhashi, which ran on Fuji Television from October 1999 to March 2001. Three separate original video animations (OVAs) totaling 30 episodes were subsequently produced by Nippon Animation and released in Japan from 2002 to 2004. A second anime television series by Madhouse aired on Nippon Television from October 2011 to September 2014, totaling 148 episodes, with two animated theatrical films released in 2013. There are also numerous audio albums, video games, musicals, and other media based on Hunter × Hunter.\\nThe manga has been licensed for English release in North America by Viz Media since April 2005. Both television series have been also licensed by Viz Media, with the first series having aired on the Funimation Channel in 2009 and the second series broadcast on Adult Swim\\'s Toonami programming block from April 2016 to June 2019.\\nHunter × Hunter has been a huge critical and financial success and has become one of the best-selling manga series of all time, having over 84 million copies in circulation by July 2022.\\n\\nPage: Hunter × Hunter (2011 TV series)\\nSummary: Hunter × Hunter is an anime television series that aired from 2011 to 2014 based on Yoshihiro Togashi\\'s manga series Hunter × Hunter. The story begins with a young boy named Gon Freecss, who one day discovers that the father who he thought was dead, is in fact alive and well. He learns that his father, Ging, is a legendary \"Hunter\", an individual who has proven themselves an elite member of humanity. Despite the fact that Ging left his son with his relatives in order to pursue his own dreams, Gon becomes determined to follow in his father\\'s footsteps, pass the rigorous \"Hunter Examination\", and eventually find his father to become a Hunter in his own right.\\nThis new Hunter × Hunter anime was announced on July 24, 2011. It is a complete reboot starting from the beginning of the original manga, with no connection to the first anime television series from 1999. Produced by Nippon TV, VAP, Shueisha and Madhouse, the series is directed by Hiroshi Kōjina, with Atsushi Maekawa and Tsutomu Kamishiro handling series composition, Takahiro Yoshimatsu designing the characters and Yoshihisa Hirano composing the music. Instead of having the old cast reprise their roles for the new adaptation, the series features an entirely new cast to voice the characters. The new series premiered airing weekly on Nippon TV and the nationwide Nippon News Network from October 2, 2011.  The series started to be collected in both DVD and Blu-ray format on January 25, 2012. Viz Media has licensed the anime for a DVD/Blu-ray release in North America with an English dub. On television, the series began airing on Adult Swim\\'s Toonami programming block on April 17, 2016, and ended on June 23, 2019.The anime series\\' opening theme is alternated between the song \"Departure!\" and an alternate version titled \"Departure! -Second Version-\" both sung by Galneryus\\' vocalist Masatoshi O'"
      ]
     },
     "execution_count": 8,
     "metadata": {},
     "output_type": "execute_result"
    }
   ],
   "source": [
    "# testing wikipedia\n",
    "from langchain.tools import WikipediaQueryRun\n",
    "from langchain_community.utilities import WikipediaAPIWrapper\n",
    "wikipedia = WikipediaQueryRun(api_wrapper=WikipediaAPIWrapper())\n",
    "wikipedia.run(\"HUNTER X HUNTER\")"
   ]
  },
  {
   "cell_type": "code",
   "execution_count": 13,
   "metadata": {},
   "outputs": [
    {
     "name": "stdout",
     "output_type": "stream",
     "text": [
      "\n",
      "\n",
      "\u001b[1m> Entering new AgentExecutor chain...\u001b[0m\n",
      "\u001b[32;1m\u001b[1;3mThere might be a new president since the last time I checked.\n",
      "Action: duckduckgo_search\n",
      "Action Input: \"current US president\"\u001b[0m\n",
      "Observation: \u001b[36;1m\u001b[1;3mJoe Biden (born November 20, 1942, Scranton, Pennsylvania, U.S.) 46th president of the United States (2021- ) and 47th vice president of the United States (2009-17) in the Democratic administration of Pres. Barack Obama. He previously represented Delaware in the U.S. Senate (1973-2009). The president of the United States is the: U.S. head of state; Chief executive of the federal government; Commander-in-Chief of the armed forces; Current president. The 46th and current president of the United States is Joseph R. Biden, Jr. He was sworn into office on January 20, 2021. Former U.S. presidents. The United States has had 45 former ... A new poll of historians coming out on Presidents' Day weekend ranks Mr. Biden as the 14th-best president in American history, just ahead of Woodrow Wilson, Ronald Reagan and Ulysses S. Grant ... News about Joe Biden, the 46th US president, including comment and features from the Guardian. 26 February 2024. Biden and Trump both plan trips to the Mexico border Thursday, dueling for advantage on immigration. President Joe Biden and former President Donald Trump will make dueling trips to the U.S.-Mexico border in Texas on Thursday following the failed border deal that was opposed by the Republican front-runner.\u001b[0m\n",
      "Thought:\u001b[32;1m\u001b[1;3mI have confirmed that Joe Biden is the current president of the United States.\n",
      "Final Answer: Joe Biden is the current president of the United States.\u001b[0m\n",
      "\n",
      "\u001b[1m> Finished chain.\u001b[0m\n",
      "{'input': 'Who is the president of the United States?', 'output': 'Joe Biden is the current president of the United States.'}\n"
     ]
    }
   ],
   "source": [
    "# building an agent\n",
    "from langchain.agents import initialize_agent\n",
    "from langchain.tools import DuckDuckGoSearchRun, WikipediaQueryRun\n",
    "\n",
    "# Create instances of the tools\n",
    "ddg_search_tool = DuckDuckGoSearchRun()\n",
    "wikipedia_query_tool = WikipediaQueryRun(api_wrapper=WikipediaAPIWrapper())\n",
    "\n",
    "# Initialize the agent with the tools\n",
    "agent = initialize_agent(\n",
    "    tools=[ddg_search_tool, wikipedia_query_tool],\n",
    "    llm=chat_model,  # Replace chat_model with your actual model\n",
    "    agent=\"zero-shot-react-description\",\n",
    "    verbose=True\n",
    ")\n",
    "\n",
    "# Query\n",
    "query = \"Who is the president of the United States?\"\n",
    "response = agent.invoke(query)\n",
    "print(response)"
   ]
  },
  {
   "cell_type": "code",
   "execution_count": 15,
   "metadata": {},
   "outputs": [
    {
     "name": "stdout",
     "output_type": "stream",
     "text": [
      "\n",
      "\n",
      "\u001b[1m> Entering new AgentExecutor chain...\u001b[0m\n",
      "\u001b[32;1m\u001b[1;3mI think I need to use Wikipedia for this question.\n",
      "Action: wikipedia\n",
      "Action Input: \"History of the Eiffel Tower\"\u001b[0m\n",
      "Observation: \u001b[33;1m\u001b[1;3mPage: Eiffel Tower\n",
      "Summary: The Eiffel Tower ( EYE-fəl; French: Tour Eiffel [tuʁ ɛfɛl] ) is a wrought-iron lattice tower on the Champ de Mars in Paris, France. It is named after the engineer Gustave Eiffel, whose company designed and built the tower from 1887 to 1889.\n",
      "Locally nicknamed \"La dame de fer\" (French for \"Iron Lady\"), it was constructed as the centerpiece of the 1889 World's Fair, and to crown the centennial anniversary of the French Revolution. Although initially criticised by some of France's leading artists and intellectuals for its design, it has since become a global cultural icon of France and one of the most recognisable structures in the world.  The tower received 5,889,000 visitors in 2022. The Eiffel Tower is the most visited monument with an entrance fee in the world: 6.91 million people ascended it in 2015. It was designated a monument historique in 1964, and was named part of a UNESCO World Heritage Site (\"Paris, Banks of the Seine\") in 1991.The tower is 330 metres (1,083 ft) tall, about the same height as an 81-storey building, and the tallest structure in Paris. Its base is square, measuring 125 metres (410 ft) on each side. During its construction, the Eiffel Tower surpassed the Washington Monument to become the tallest human-made structure in the world, a title it held for 41 years until the Chrysler Building in New York City was finished in 1930. It was the first structure in the world to surpass both the 200-metre and 300-metre mark in height. Due to the addition of a broadcasting aerial at the top of the tower in 1957, it is now taller than the Chrysler Building by 5.2 metres (17 ft). Excluding transmitters, the Eiffel Tower is the second tallest free-standing structure in France after the Millau Viaduct.\n",
      "The tower has three levels for visitors, with restaurants on the first and second levels. The top level's upper platform is 276 m (906 ft) above the ground – the highest observation deck accessible to the public in the European Union. Tickets can be purchased to ascend by stairs or lift to the first and second levels. The climb from ground level to the first level is over 300 steps, as is the climb from the first level to the second, making the entire ascent a 600 step climb. Although there is a staircase to the top level, it is usually accessible only by lift. On this top, third level is a private apartment built for Gustave Eiffel's private use. He decorated it with furniture by Jean Lachaise and invited friends such as Thomas Edison.\n",
      "\n",
      "Page: List of the 72 names on the Eiffel Tower\n",
      "Summary: On the Eiffel Tower, 72 names of French scientists, engineers, and mathematicians are engraved in recognition of their contributions. Gustave Eiffel chose this \"invocation of science\" because of his concern over the protests against the tower, and chose names of those who had distinguished themselves since 1789. The engravings are found on the sides of the tower under the first balcony, in letters about 60 cm (24 in) tall, and were originally painted in gold. The engraving was painted over at the beginning of the 20th century and restored in 1986–87 by Société Nouvelle d'exploitation de la Tour Eiffel, the company that the city of Paris contracts to operate the Tower. The repainting of 2010–11 restored the letters to their original gold colour. There are also names of the engineers who helped build the Tower and design its architecture on a plaque on the top of the Tower, where a laboratory was built as well.\n",
      "\n",
      "\n",
      "\n",
      "Page: Gustave Eiffel\n",
      "Summary: Alexandre Gustave Eiffel ( EYE-fəl, French: [alɛksɑ̃dʁ ɡystav ɛfɛl]; né Bonickhausen dit Eiffel; 15 December 1832 – 27 December 1923) was a French civil engineer. A graduate of École Centrale des Arts et Manufactures, he made his name with various bridges for the French railway network, most famously the Garabit Viaduct. He is best known for the world-famous Eiffel Tower, designed by his company and built for the 1889 Universal Exposition in Paris, and his contribution t\u001b[0m\n",
      "Thought:\u001b[32;1m\u001b[1;3mAfter reading about the history of the Eiffel Tower, the list of names engraved on it, and Gustave Eiffel himself, I feel confident in my understanding of the subject.\n",
      "Final Answer: The Eiffel Tower is a wrought-iron lattice tower on the Champ de Mars in Paris, France. It was designed and built by Gustave Eiffel's company from 1887 to 1889 for the 1889 World's Fair and to crown the centennial anniversary of the French Revolution. It stands at 330 meters tall, with three levels for visitors, and is the most visited monument with an entrance fee in the world. The tower has 72 names of French scientists, engineers, and mathematicians engraved on it in recognition of their contributions, and Gustave Eiffel himself was a French civil engineer best known for designing and building the tower.\u001b[0m\n",
      "\n",
      "\u001b[1m> Finished chain.\u001b[0m\n",
      "{'input': 'What is the history of the Eiffel Tower?', 'output': \"The Eiffel Tower is a wrought-iron lattice tower on the Champ de Mars in Paris, France. It was designed and built by Gustave Eiffel's company from 1887 to 1889 for the 1889 World's Fair and to crown the centennial anniversary of the French Revolution. It stands at 330 meters tall, with three levels for visitors, and is the most visited monument with an entrance fee in the world. The tower has 72 names of French scientists, engineers, and mathematicians engraved on it in recognition of their contributions, and Gustave Eiffel himself was a French civil engineer best known for designing and building the tower.\"}\n"
     ]
    }
   ],
   "source": [
    "query = \"What is the history of the Eiffel Tower?\"\n",
    "response = agent.invoke(query)\n",
    "print(response)"
   ]
  },
  {
   "cell_type": "code",
   "execution_count": 18,
   "metadata": {},
   "outputs": [
    {
     "name": "stdout",
     "output_type": "stream",
     "text": [
      "\n",
      "\n",
      "\u001b[1m> Entering new AgentExecutor chain...\u001b[0m\n",
      "\u001b[32;1m\u001b[1;3mIt's unlikely that a single call can utilize all the tools, but it's worth checking the documentation to confirm.\n",
      "Action: DuckDuckGo search\n",
      "Action Input: \"langchain agent documentation\"\u001b[0m\n",
      "Observation: DuckDuckGo search is not a valid tool, try one of [duckduckgo_search, wikipedia].\n",
      "Thought:\u001b[32;1m\u001b[1;3mI made a mistake in my input, let me try again.\n",
      "Action: DuckDuckGo search\n",
      "Action Input: \"can langchain agent use all tools in a single call\"\u001b[0m\n",
      "Observation: DuckDuckGo search is not a valid tool, try one of [duckduckgo_search, wikipedia].\n",
      "Thought:\u001b[32;1m\u001b[1;3mI need to find the documentation for Langchain Agent to see if it can use multiple tools in a single call.\n",
      "Action: Wikipedia\n",
      "Action Input: \"Langchain Agent\"\u001b[0m\n",
      "Observation: Wikipedia is not a valid tool, try one of [duckduckgo_search, wikipedia].\n",
      "Thought:\u001b[32;1m\u001b[1;3mI need to clarify what \"all the tools\" means in the context of Langchain Agent.\n",
      "Action: DuckDuckGo search\n",
      "Action Input: \"what tools can Langchain Agent use\"\u001b[0m\n",
      "Observation: DuckDuckGo search is not a valid tool, try one of [duckduckgo_search, wikipedia].\n",
      "Thought:\u001b[32;1m\u001b[1;3mI need to check the Langchain Agent documentation to see what tools it can use.\n",
      "Action: DuckDuckGo search\n",
      "Action Input: \"Langchain Agent documentation tools\"\u001b[0m\n",
      "Observation: DuckDuckGo search is not a valid tool, try one of [duckduckgo_search, wikipedia].\n",
      "Thought:\u001b[32;1m\u001b[1;3mI should try searching for the Langchain Agent documentation directly on their website.\n",
      "Action: DuckDuckGo search\n",
      "Action Input: \"Langchain Agent website documentation\"\u001b[0m\n",
      "Observation: DuckDuckGo search is not a valid tool, try one of [duckduckgo_search, wikipedia].\n",
      "Thought:\u001b[32;1m\u001b[1;3mI should check if there are any relevant forums or communities where I can ask this question.\n",
      "Action: DuckDuckGo search\n",
      "Action Input: \"Langchain Agent forum\"\u001b[0m\n",
      "Observation: DuckDuckGo search is not a valid tool, try one of [duckduckgo_search, wikipedia].\n",
      "Thought:\u001b[32;1m\u001b[1;3mIt seems that there is not enough information available on Langchain Agent and its capabilities with regards to using multiple tools in a single call.\n",
      "Final Answer: There is no clear answer to whether Langchain Agent can use all the tools in a single call.\u001b[0m\n",
      "\n",
      "\u001b[1m> Finished chain.\u001b[0m\n",
      "{'input': 'Can langchain agent can use all the tools in a single call?', 'output': 'There is no clear answer to whether Langchain Agent can use all the tools in a single call.'}\n"
     ]
    }
   ],
   "source": [
    "query = \"Can langchain agent can use all the tools in a single call?\"\n",
    "response = agent.invoke(query)\n",
    "print(response)"
   ]
  },
  {
   "cell_type": "markdown",
   "metadata": {},
   "source": [
    "Pour aller plus loin : https://blog.arcoptimizer.com/un-guide-complet-de-langchain-en-python-24"
   ]
  },
  {
   "cell_type": "code",
   "execution_count": null,
   "metadata": {},
   "outputs": [],
   "source": []
  }
 ],
 "metadata": {
  "kernelspec": {
   "display_name": ".venv",
   "language": "python",
   "name": "python3"
  },
  "language_info": {
   "codemirror_mode": {
    "name": "ipython",
    "version": 3
   },
   "file_extension": ".py",
   "mimetype": "text/x-python",
   "name": "python",
   "nbconvert_exporter": "python",
   "pygments_lexer": "ipython3",
   "version": "3.11.8"
  }
 },
 "nbformat": 4,
 "nbformat_minor": 2
}
